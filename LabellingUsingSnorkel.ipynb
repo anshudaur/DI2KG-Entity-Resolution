{
  "nbformat": 4,
  "nbformat_minor": 0,
  "metadata": {
    "colab": {
      "name": "LabellingUsingSnorkel.ipynb",
      "provenance": [],
      "collapsed_sections": []
    },
    "kernelspec": {
      "name": "python3",
      "display_name": "Python 3"
    }
  },
  "cells": [
    {
      "cell_type": "code",
      "metadata": {
        "id": "YgmAIMPxCRRY",
        "colab_type": "code",
        "outputId": "767f6f9f-91d2-4e79-a56b-4ebcf9188fcc",
        "colab": {
          "base_uri": "https://localhost:8080/",
          "height": 320
        }
      },
      "source": [
        "!pip install --upgrade pandas"
      ],
      "execution_count": 0,
      "outputs": [
        {
          "output_type": "stream",
          "text": [
            "Collecting pandas\n",
            "  Using cached https://files.pythonhosted.org/packages/bb/71/8f53bdbcbc67c912b888b40def255767e475402e9df64050019149b1a943/pandas-1.0.3-cp36-cp36m-manylinux1_x86_64.whl\n",
            "Requirement already satisfied, skipping upgrade: python-dateutil>=2.6.1 in /usr/local/lib/python3.6/dist-packages (from pandas) (2.8.1)\n",
            "Requirement already satisfied, skipping upgrade: numpy>=1.13.3 in /usr/local/lib/python3.6/dist-packages (from pandas) (1.18.4)\n",
            "Requirement already satisfied, skipping upgrade: pytz>=2017.2 in /usr/local/lib/python3.6/dist-packages (from pandas) (2018.9)\n",
            "Requirement already satisfied, skipping upgrade: six>=1.5 in /usr/local/lib/python3.6/dist-packages (from python-dateutil>=2.6.1->pandas) (1.12.0)\n",
            "\u001b[31mERROR: snorkel 0.9.5 has requirement pandas<0.26.0,>=0.25.0, but you'll have pandas 1.0.3 which is incompatible.\u001b[0m\n",
            "\u001b[31mERROR: snorkel 0.9.5 has requirement tensorboard<2.0.0,>=1.14.0, but you'll have tensorboard 2.2.1 which is incompatible.\u001b[0m\n",
            "Installing collected packages: pandas\n",
            "  Found existing installation: pandas 0.25.3\n",
            "    Uninstalling pandas-0.25.3:\n",
            "      Successfully uninstalled pandas-0.25.3\n",
            "Successfully installed pandas-1.0.3\n"
          ],
          "name": "stdout"
        },
        {
          "output_type": "display_data",
          "data": {
            "application/vnd.colab-display-data+json": {
              "pip_warning": {
                "packages": [
                  "pandas"
                ]
              }
            }
          },
          "metadata": {
            "tags": []
          }
        }
      ]
    },
    {
      "cell_type": "code",
      "metadata": {
        "id": "_-oICnVv7jrl",
        "colab_type": "code",
        "outputId": "2b4972a4-9a73-48af-aa39-1bf692a054d3",
        "colab": {
          "base_uri": "https://localhost:8080/",
          "height": 760
        }
      },
      "source": [
        "#%tensorflow_version 1.x\n",
        "!pip install snorkel"
      ],
      "execution_count": 0,
      "outputs": [
        {
          "output_type": "stream",
          "text": [
            "Requirement already satisfied: snorkel in /usr/local/lib/python3.6/dist-packages (0.9.5)\n",
            "Collecting tensorboard<2.0.0,>=1.14.0\n",
            "\u001b[?25l  Downloading https://files.pythonhosted.org/packages/1e/e9/d3d747a97f7188f48aa5eda486907f3b345cd409f0a0850468ba867db246/tensorboard-1.15.0-py3-none-any.whl (3.8MB)\n",
            "\u001b[K     |████████████████████████████████| 3.8MB 2.7MB/s \n",
            "\u001b[?25hCollecting pandas<0.26.0,>=0.25.0\n",
            "  Using cached https://files.pythonhosted.org/packages/52/3f/f6a428599e0d4497e1595030965b5ba455fd8ade6e977e3c819973c4b41d/pandas-0.25.3-cp36-cp36m-manylinux1_x86_64.whl\n",
            "Requirement already satisfied: tqdm<5.0.0,>=4.33.0 in /usr/local/lib/python3.6/dist-packages (from snorkel) (4.41.1)\n",
            "Requirement already satisfied: numpy<2.0.0,>=1.16.0 in /usr/local/lib/python3.6/dist-packages (from snorkel) (1.18.4)\n",
            "Requirement already satisfied: torch<2.0.0,>=1.2.0 in /usr/local/lib/python3.6/dist-packages (from snorkel) (1.5.0+cu101)\n",
            "Requirement already satisfied: scipy<2.0.0,>=1.2.0 in /usr/local/lib/python3.6/dist-packages (from snorkel) (1.4.1)\n",
            "Requirement already satisfied: scikit-learn<0.22.0,>=0.20.2 in /usr/local/lib/python3.6/dist-packages (from snorkel) (0.21.3)\n",
            "Requirement already satisfied: munkres>=1.0.6 in /usr/local/lib/python3.6/dist-packages (from snorkel) (1.1.2)\n",
            "Requirement already satisfied: networkx<2.4,>=2.2 in /usr/local/lib/python3.6/dist-packages (from snorkel) (2.3)\n",
            "Requirement already satisfied: absl-py>=0.4 in /usr/local/lib/python3.6/dist-packages (from tensorboard<2.0.0,>=1.14.0->snorkel) (0.9.0)\n",
            "Requirement already satisfied: werkzeug>=0.11.15 in /usr/local/lib/python3.6/dist-packages (from tensorboard<2.0.0,>=1.14.0->snorkel) (1.0.1)\n",
            "Requirement already satisfied: grpcio>=1.6.3 in /usr/local/lib/python3.6/dist-packages (from tensorboard<2.0.0,>=1.14.0->snorkel) (1.29.0)\n",
            "Requirement already satisfied: protobuf>=3.6.0 in /usr/local/lib/python3.6/dist-packages (from tensorboard<2.0.0,>=1.14.0->snorkel) (3.10.0)\n",
            "Requirement already satisfied: markdown>=2.6.8 in /usr/local/lib/python3.6/dist-packages (from tensorboard<2.0.0,>=1.14.0->snorkel) (3.2.2)\n",
            "Requirement already satisfied: six>=1.10.0 in /usr/local/lib/python3.6/dist-packages (from tensorboard<2.0.0,>=1.14.0->snorkel) (1.12.0)\n",
            "Requirement already satisfied: wheel>=0.26; python_version >= \"3\" in /usr/local/lib/python3.6/dist-packages (from tensorboard<2.0.0,>=1.14.0->snorkel) (0.34.2)\n",
            "Requirement already satisfied: setuptools>=41.0.0 in /usr/local/lib/python3.6/dist-packages (from tensorboard<2.0.0,>=1.14.0->snorkel) (46.3.0)\n",
            "Requirement already satisfied: pytz>=2017.2 in /usr/local/lib/python3.6/dist-packages (from pandas<0.26.0,>=0.25.0->snorkel) (2018.9)\n",
            "Requirement already satisfied: python-dateutil>=2.6.1 in /usr/local/lib/python3.6/dist-packages (from pandas<0.26.0,>=0.25.0->snorkel) (2.8.1)\n",
            "Requirement already satisfied: future in /usr/local/lib/python3.6/dist-packages (from torch<2.0.0,>=1.2.0->snorkel) (0.16.0)\n",
            "Requirement already satisfied: joblib>=0.11 in /usr/local/lib/python3.6/dist-packages (from scikit-learn<0.22.0,>=0.20.2->snorkel) (0.15.1)\n",
            "Requirement already satisfied: decorator>=4.3.0 in /usr/local/lib/python3.6/dist-packages (from networkx<2.4,>=2.2->snorkel) (4.4.2)\n",
            "Requirement already satisfied: importlib-metadata; python_version < \"3.8\" in /usr/local/lib/python3.6/dist-packages (from markdown>=2.6.8->tensorboard<2.0.0,>=1.14.0->snorkel) (1.6.0)\n",
            "Requirement already satisfied: zipp>=0.5 in /usr/local/lib/python3.6/dist-packages (from importlib-metadata; python_version < \"3.8\"->markdown>=2.6.8->tensorboard<2.0.0,>=1.14.0->snorkel) (3.1.0)\n",
            "\u001b[31mERROR: tensorflow 2.2.0 has requirement tensorboard<2.3.0,>=2.2.0, but you'll have tensorboard 1.15.0 which is incompatible.\u001b[0m\n",
            "\u001b[31mERROR: google-colab 1.0.0 has requirement pandas~=1.0.0; python_version >= \"3.0\", but you'll have pandas 0.25.3 which is incompatible.\u001b[0m\n",
            "Installing collected packages: tensorboard, pandas\n",
            "  Found existing installation: tensorboard 2.2.1\n",
            "    Uninstalling tensorboard-2.2.1:\n",
            "      Successfully uninstalled tensorboard-2.2.1\n",
            "  Found existing installation: pandas 1.0.3\n",
            "    Uninstalling pandas-1.0.3:\n",
            "      Successfully uninstalled pandas-1.0.3\n",
            "Successfully installed pandas-0.25.3 tensorboard-1.15.0\n"
          ],
          "name": "stdout"
        },
        {
          "output_type": "display_data",
          "data": {
            "application/vnd.colab-display-data+json": {
              "pip_warning": {
                "packages": [
                  "pandas"
                ]
              }
            }
          },
          "metadata": {
            "tags": []
          }
        }
      ]
    },
    {
      "cell_type": "markdown",
      "metadata": {
        "id": "tPymh_cuaCAC",
        "colab_type": "text"
      },
      "source": [
        ""
      ]
    },
    {
      "cell_type": "code",
      "metadata": {
        "id": "JonkpMZQ9ZZu",
        "colab_type": "code",
        "outputId": "934658e4-e48e-4929-a479-e825cffb4323",
        "colab": {
          "base_uri": "https://localhost:8080/",
          "height": 34
        }
      },
      "source": [
        "import os\n",
        "from google.colab import drive\n",
        "drive.mount('/content/drive')\n",
        "os.chdir(\"/content/drive/My Drive/SimSkipReloaded/\")\n",
        "os.getcwd()\n",
        "import pandas as pd"
      ],
      "execution_count": 0,
      "outputs": [
        {
          "output_type": "stream",
          "text": [
            "Drive already mounted at /content/drive; to attempt to forcibly remount, call drive.mount(\"/content/drive\", force_remount=True).\n"
          ],
          "name": "stdout"
        }
      ]
    },
    {
      "cell_type": "code",
      "metadata": {
        "id": "pVYmbHCz8g_u",
        "colab_type": "code",
        "outputId": "2d336cb1-3474-4062-e32c-64264ce1609e",
        "colab": {
          "base_uri": "https://localhost:8080/",
          "height": 151
        }
      },
      "source": [
        "data = pd.read_csv(\"data_csv_1000_labelled.csv\")\n",
        "data.head()\n",
        "df_data = pd.DataFrame(data)\n",
        "#df_data1=df_data.iloc[:,1:]\n",
        "#df_data1\n",
        "print(data.head())"
      ],
      "execution_count": 56,
      "outputs": [
        {
          "output_type": "stream",
          "text": [
            "   Unnamed: 0  ... Productness\n",
            "0        3800  ...           0\n",
            "1        1925  ...           1\n",
            "2        7087  ...           1\n",
            "3       12662  ...           0\n",
            "4        4224  ...           1\n",
            "\n",
            "[5 rows x 5 columns]\n"
          ],
          "name": "stdout"
        }
      ]
    },
    {
      "cell_type": "code",
      "metadata": {
        "id": "f48zS0I-IQN7",
        "colab_type": "code",
        "colab": {}
      },
      "source": [
        "df_new = df_data.rename(columns={'JSON': 'Text'})\n",
        "#df_new"
      ],
      "execution_count": 0,
      "outputs": []
    },
    {
      "cell_type": "code",
      "metadata": {
        "id": "atxSqD9yB6ej",
        "colab_type": "code",
        "colab": {}
      },
      "source": [
        "# Define the label mappings for convenience\n",
        "ABSTAIN = -1\n",
        "NON_PRODUCT = 0\n",
        "PRODUCT = 1"
      ],
      "execution_count": 0,
      "outputs": []
    },
    {
      "cell_type": "markdown",
      "metadata": {
        "id": "U_8QOU1gwZAW",
        "colab_type": "text"
      },
      "source": [
        "# **Labelling Functions in Snorkel :**\n",
        "\n",
        "**Keyword searches:** looking for specific words in a sentence\n",
        "**Pattern matching:** looking for specific syntactical patterns\n",
        "**Third-party models:** using an pre-trained model (usually a model for a different task than the one at hand)\n",
        "**Distant supervision:** using external knowledge base\n",
        "**Crowdworker labels:** treating each crowdworker as a black-box function that assigns labels to subsets of the data"
      ]
    },
    {
      "cell_type": "code",
      "metadata": {
        "id": "NID7rfvuBo2W",
        "colab_type": "code",
        "outputId": "3c184660-6ed3-4e7e-944e-a7b2d380f06a",
        "colab": {
          "base_uri": "https://localhost:8080/",
          "height": 34
        }
      },
      "source": [
        "import re\n",
        "pd.__version__"
      ],
      "execution_count": 0,
      "outputs": [
        {
          "output_type": "execute_result",
          "data": {
            "text/plain": [
              "'0.25.3'"
            ]
          },
          "metadata": {
            "tags": []
          },
          "execution_count": 7
        }
      ]
    },
    {
      "cell_type": "markdown",
      "metadata": {
        "id": "9Cj_4Ne8vZm7",
        "colab_type": "text"
      },
      "source": [
        "Fixed:\n",
        "- Replace json with string\n",
        "- Rename json column with text for labelling function "
      ]
    },
    {
      "cell_type": "code",
      "metadata": {
        "id": "bp6ZYRsAyoUK",
        "colab_type": "code",
        "outputId": "5c1179ce-6fe7-4071-88bd-f48158c773e1",
        "colab": {
          "base_uri": "https://localhost:8080/",
          "height": 402
        }
      },
      "source": [
        "#20 samples to generate ideas for LFs\n",
        "\n",
        "clean = re.compile('<page title>')\n",
        "#df_new[[\"JSON\"]] = re.sub(clean, \" \", str(df_new[[\"JSON\"]]))\n",
        "df_new[[\"Text\"]] = df_new.Text.str.replace('\\W', ' ')\n",
        "df_new[[\"Text\"]] = df_new.Text.str.replace('page title', '')\n",
        "df_new[[\"FileName\", \"Title\", \"Text\"]].sample(20, random_state=2)\n",
        "df_new\n",
        "#df_new[[\"Text\", \"JSON\"]].sample(20, random_state=2)"
      ],
      "execution_count": 58,
      "outputs": [
        {
          "output_type": "execute_result",
          "data": {
            "text/html": [
              "<div>\n",
              "<style scoped>\n",
              "    .dataframe tbody tr th:only-of-type {\n",
              "        vertical-align: middle;\n",
              "    }\n",
              "\n",
              "    .dataframe tbody tr th {\n",
              "        vertical-align: top;\n",
              "    }\n",
              "\n",
              "    .dataframe thead th {\n",
              "        text-align: right;\n",
              "    }\n",
              "</style>\n",
              "<table border=\"1\" class=\"dataframe\">\n",
              "  <thead>\n",
              "    <tr style=\"text-align: right;\">\n",
              "      <th></th>\n",
              "      <th>Unnamed: 0</th>\n",
              "      <th>FileName</th>\n",
              "      <th>Title</th>\n",
              "      <th>Text</th>\n",
              "      <th>Productness</th>\n",
              "    </tr>\n",
              "  </thead>\n",
              "  <tbody>\n",
              "    <tr>\n",
              "      <th>0</th>\n",
              "      <td>3800</td>\n",
              "      <td>864.json</td>\n",
              "      <td>LCD TFT TV MONITOR WALL MOUNT BRACKET 13\" 15\" ...</td>\n",
              "      <td>LCD TFT TV MONITOR WALL MOUNT BRACKET ...</td>\n",
              "      <td>0</td>\n",
              "    </tr>\n",
              "    <tr>\n",
              "      <th>1</th>\n",
              "      <td>1925</td>\n",
              "      <td>1697.json</td>\n",
              "      <td>Vibox Velocity 17 Ã¢ÂÂ Windows 7 Gaming Desk...</td>\n",
              "      <td>Vibox Velocity 17 Ã  x98 x85 Windows 7...</td>\n",
              "      <td>1</td>\n",
              "    </tr>\n",
              "    <tr>\n",
              "      <th>2</th>\n",
              "      <td>7087</td>\n",
              "      <td>21144.json</td>\n",
              "      <td>Samsung S27A850T 28\" PLS Business LED Monitor ...</td>\n",
              "      <td>Samsung S27A850T 28  PLS Business LED ...</td>\n",
              "      <td>1</td>\n",
              "    </tr>\n",
              "    <tr>\n",
              "      <th>3</th>\n",
              "      <td>12662</td>\n",
              "      <td>97.json</td>\n",
              "      <td>Iiyama ProLite T1931SR-1 - MBE</td>\n",
              "      <td>Iiyama ProLite T1931SR 1   MBE    aspe...</td>\n",
              "      <td>0</td>\n",
              "    </tr>\n",
              "    <tr>\n",
              "      <th>4</th>\n",
              "      <td>4224</td>\n",
              "      <td>401.json</td>\n",
              "      <td>Cleverboxes - 60002936 | NEC MultiSync EX231W-...</td>\n",
              "      <td>1920 x 1080 graphic mode    60Hz          Cl...</td>\n",
              "      <td>1</td>\n",
              "    </tr>\n",
              "    <tr>\n",
              "      <th>...</th>\n",
              "      <td>...</td>\n",
              "      <td>...</td>\n",
              "      <td>...</td>\n",
              "      <td>...</td>\n",
              "      <td>...</td>\n",
              "    </tr>\n",
              "    <tr>\n",
              "      <th>995</th>\n",
              "      <td>1754</td>\n",
              "      <td>1542.json</td>\n",
              "      <td>ADD A 17\" FLAT SCREEN TFT LCD MONITOR TO GO WI...</td>\n",
              "      <td>ADD A 17  FLAT SCREEN TFT LCD MONITOR ...</td>\n",
              "      <td>1</td>\n",
              "    </tr>\n",
              "    <tr>\n",
              "      <th>996</th>\n",
              "      <td>14234</td>\n",
              "      <td>74.json</td>\n",
              "      <td>OHC24 Shop : Monitor &gt; Monitor search help &gt; N...</td>\n",
              "      <td>OHC24 Shop   Monitor   Monitor search ...</td>\n",
              "      <td>1</td>\n",
              "    </tr>\n",
              "    <tr>\n",
              "      <th>997</th>\n",
              "      <td>12116</td>\n",
              "      <td>151.json</td>\n",
              "      <td>ASUS VS197N  18.5 INCH LED  TN  1366 X 768  5M...</td>\n",
              "      <td>3d compatibility    No          ASUS VS197N ...</td>\n",
              "      <td>1</td>\n",
              "    </tr>\n",
              "    <tr>\n",
              "      <th>998</th>\n",
              "      <td>7729</td>\n",
              "      <td>22325.json</td>\n",
              "      <td>Viewsonic VX2703MH LED 27 LED LCD Monitor 16 9...</td>\n",
              "      <td>Viewsonic VX2703MH LED 27 LED LCD Moni...</td>\n",
              "      <td>1</td>\n",
              "    </tr>\n",
              "    <tr>\n",
              "      <th>999</th>\n",
              "      <td>1962</td>\n",
              "      <td>173.json</td>\n",
              "      <td>PHILLIPS 170X5 17\" MONITOR | UK | Ebay Items |...</td>\n",
              "      <td>PHILLIPS 170X5 17  MONITOR   UK   Ebay...</td>\n",
              "      <td>1</td>\n",
              "    </tr>\n",
              "  </tbody>\n",
              "</table>\n",
              "<p>1000 rows × 5 columns</p>\n",
              "</div>"
            ],
            "text/plain": [
              "     Unnamed: 0  ... Productness\n",
              "0          3800  ...           0\n",
              "1          1925  ...           1\n",
              "2          7087  ...           1\n",
              "3         12662  ...           0\n",
              "4          4224  ...           1\n",
              "..          ...  ...         ...\n",
              "995        1754  ...           1\n",
              "996       14234  ...           1\n",
              "997       12116  ...           1\n",
              "998        7729  ...           1\n",
              "999        1962  ...           1\n",
              "\n",
              "[1000 rows x 5 columns]"
            ]
          },
          "metadata": {
            "tags": []
          },
          "execution_count": 58
        }
      ]
    },
    {
      "cell_type": "code",
      "metadata": {
        "id": "_4ncN9jbE9kj",
        "colab_type": "code",
        "colab": {}
      },
      "source": [
        "from snorkel.labeling import labeling_function"
      ],
      "execution_count": 0,
      "outputs": []
    },
    {
      "cell_type": "markdown",
      "metadata": {
        "id": "bJ9LZ62DclPA",
        "colab_type": "text"
      },
      "source": [
        ""
      ]
    },
    {
      "cell_type": "markdown",
      "metadata": {
        "id": "V9YpCOeWAg0J",
        "colab_type": "text"
      },
      "source": [
        "printer\n",
        "housing\n",
        "stands \n",
        "mounts\n",
        "projection screen\n",
        "operator panel---(1)\n",
        "monitor stand\n",
        "rear view monitor--(1)\n",
        "charger chord\n",
        "adapter\n",
        "adapter plate\n",
        "privacy filter\n",
        "vga\n",
        "led monitor\n",
        "adjust arm\n",
        "Monitor Mounts Arm Stand Bracket Mount\n",
        "venetian bronze\n",
        "shower\n",
        "power cord\n",
        "power supply board\n",
        "power supply chord\n",
        "adapter charger\n",
        "\n",
        "modular desk\n",
        "shelves\n",
        "privacy screen vs privacy filter\n",
        "Personal 3D Viewer\n",
        "CCTV\n",
        "dust cover\n",
        "monitor mounts\n",
        "Baby Monitor\n",
        "OHC24 Shop: Monitor\n",
        "voltmeter monitor\n",
        "desktop pc\n",
        "windows\n",
        "pieces\n",
        "oxygen monitor\n",
        "body composition monitor\n"
      ]
    },
    {
      "cell_type": "code",
      "metadata": {
        "id": "WSdNF8DBHCt1",
        "colab_type": "code",
        "colab": {}
      },
      "source": [
        "import json"
      ],
      "execution_count": 0,
      "outputs": []
    },
    {
      "cell_type": "markdown",
      "metadata": {
        "id": "3CulzzP2HCZI",
        "colab_type": "text"
      },
      "source": [
        "JSON contains []"
      ]
    },
    {
      "cell_type": "markdown",
      "metadata": {
        "id": "KYcz3bdhqtfM",
        "colab_type": "text"
      },
      "source": [
        "Labelling functions : Disha"
      ]
    },
    {
      "cell_type": "code",
      "metadata": {
        "id": "D1LH2XTUE-Pq",
        "colab_type": "code",
        "outputId": "0cd44f34-b9bf-4747-ad20-b40167078885",
        "colab": {
          "base_uri": "https://localhost:8080/",
          "height": 34
        }
      },
      "source": [
        "#Labeling functions in Snorkel are created with the @labeling_function decorator, returns a label for a single data point.\n",
        "@labeling_function()\n",
        "def monitor_keyword(x): \n",
        "    \"\"\"Many spam comments talk about 'my channel', 'my video', etc.\"\"\"\n",
        "    return PRODUCT if \"monitor\" in str(x.Text).lower() else ABSTAIN\n",
        "\n",
        "\n",
        "@labeling_function()\n",
        "def monitor_keyword(x): \n",
        "    \"\"\"Many spam comments talk about 'my channel', 'my video', etc.\"\"\"\n",
        "    return PRODUCT if \"monitor\" in str(x.Text).lower() else ABSTAIN\n",
        "\n",
        "@labeling_function()\n",
        "def monitor_keyword(x): \n",
        "    \"\"\"Many spam comments talk about 'my channel', 'my video', etc.\"\"\"\n",
        "    return PRODUCT if \"monitor\" in str(x.Text).lower() else ABSTAIN\n",
        "  \n",
        "@labeling_function()\n",
        "def monitor_keyword(x): \n",
        "    \"\"\"Many spam comments talk about 'my channel', 'my video', etc.\"\"\"\n",
        "    return PRODUCT if \"monitor\" in str(x.Text).lower() else ABSTAIN\n",
        "\n",
        "\n",
        "\n",
        "\n",
        "\n",
        "\"\"\"\n",
        "@labeling_function()\n",
        "def part_keywords(x):\n",
        "  check_word = str(x.Text).lower()\n",
        "    #Many spam comments talk about 'my channel', 'my video', etc.\n",
        "  if \"monitor\" in check_word:\n",
        "    for word in ['baby','board','adapter','stand','panel','power','dvd','rear']:\n",
        "      if word in check_word:\n",
        "        return NON_PRODUCT\"\"\"\n",
        "\"\"\"\n",
        "\n",
        "@labeling_function()\n",
        "def printer_keyword(x): \n",
        "  str_json = json.dumps(x)\n",
        "  #print(str_json.type)\n",
        "  return PRODUCT if \"monitor\" in str_json.lower() else ABSTAIN \"\"\"   "
      ],
      "execution_count": 0,
      "outputs": [
        {
          "output_type": "execute_result",
          "data": {
            "text/plain": [
              "'\\n\\n@labeling_function()\\ndef printer_keyword(x): \\n  str_json = json.dumps(x)\\n  #print(str_json.type)\\n  return PRODUCT if \"monitor\" in str_json.lower() else ABSTAIN '"
            ]
          },
          "metadata": {
            "tags": []
          },
          "execution_count": 11
        }
      ]
    },
    {
      "cell_type": "markdown",
      "metadata": {
        "id": "L0_m2ie_qap4",
        "colab_type": "text"
      },
      "source": [
        "More labelling fuctions  : (Anshu)\n",
        "\n",
        "modular desk,\n",
        "shelves,\n",
        "privacy screen vs privacy filter ,\n",
        "Personal 3D Viewer ,\n",
        "CCTV ,\n",
        "dust cover,\n",
        "monitor mounts,\n",
        "Baby Monitor,\n",
        "OHC24 Shop: Monitor,\n",
        "voltmeter monitor,\n",
        "desktop pc,\n",
        "windows,\n",
        "pieces,\n",
        "oxygen monitor,\n",
        "body composition monitor\n"
      ]
    },
    {
      "cell_type": "code",
      "metadata": {
        "id": "VvPMV4TuqaIs",
        "colab_type": "code",
        "colab": {}
      },
      "source": [
        "@labeling_function()\n",
        "def modularDesk_keyword(x): \n",
        "    #modular desk\n",
        "    return NON_PRODUCT if \"modular desk\" in str(x.Text).lower() else PRODUCT\n",
        "\n",
        "@labeling_function()\n",
        "def shelves_keyword(x): \n",
        "    #shelves\n",
        "    textVal = str(x.Text).lower()\n",
        "    return NON_PRODUCT if \"shelves\" in textVal else PRODUCT\n",
        "\n",
        "@labeling_function()\n",
        "def screenFilter_keyword(x): \n",
        "    #privacy screen vs privacy filter\n",
        "    textVal = str(x.Text).lower()\n",
        "    return NON_PRODUCT if \"privacy screen vs privacy filter\" in textVal or (\"privacy filter\" in textVal and \"monitor\" in textVal) else PRODUCT\n",
        "\n",
        "@labeling_function()\n",
        "def viewer3D_keyword(x): \n",
        "    #Personal 3D Viewer\n",
        "    textVal = str(x.Text).lower() \n",
        "    return NON_PRODUCT if \"personal 3d viewer\" in textVal else PRODUCT\n",
        "\n",
        "@labeling_function()\n",
        "def cctv_keyword(x): \n",
        "    #CCTV\n",
        "    textVal = str(x.Text).lower() \n",
        "    return NON_PRODUCT if \"cctv\" in textVal or (\"cctv\" in textVal and \"monitor\" in textVal) else PRODUCT\n",
        "\n",
        "@labeling_function()\n",
        "def dustCover_keyword(x): \n",
        "    #dust cover\n",
        "    textVal = str(x.Text).lower()\n",
        "    return NON_PRODUCT if \"dust cover\" in textVal or (\"dust cover\" in textVal and \"monitor\" in textVal) else PRODUCT\n",
        "\n",
        "@labeling_function()\n",
        "def monitorMounts_keyword(x): \n",
        "    #monitor mount\n",
        "    textVal = str(x.Text).lower()\n",
        "    return NON_PRODUCT if \"monitor mount\" in textVal or (\"monitor mounts\" in textVal) else PRODUCT\n",
        "\n",
        "@labeling_function()\n",
        "def babyMonitor_keyword(x):\n",
        "    textVal = str(x.Text).lower() \n",
        "    #baby monitor\n",
        "    return NON_PRODUCT if \"baby monitor\" in textVal or (\"baby\" in textVal and \"monitor\" in textVal) else PRODUCT\n",
        "\n",
        "@labeling_function()\n",
        "def randomStringMonitor_keyword(x):\n",
        "    textVal = str(x.Text).lower() \n",
        "    #OHC24 Shop: Monitor\n",
        "    return NON_PRODUCT if \"ohc24 shop : monitor\" in textVal or (\"ohc24 shop\" in textVal and \"monitor\" in textVal) else PRODUCT\n",
        "\n",
        "@labeling_function()\n",
        "def voltmeterMonitor_keyword(x):\n",
        "    textVal = str(x.Text).lower() \n",
        "    #baby monitor\n",
        "    return NON_PRODUCT if \"voltmeter monitor\" in textVal or (\"voltmeter\" in textVal and \"monitor\" in textVal) else PRODUCT\n",
        "\n",
        "@labeling_function()\n",
        "def desktopPCMonitor_keyword(x):\n",
        "    textVal = str(x.Text).lower() \n",
        "    #desktop pc\n",
        "    return NON_PRODUCT if \"desktop pc\" in textVal or (\"desktop pc\" in textVal and \"monitor\" in textVal) else PRODUCT\n",
        "\n",
        "@labeling_function()\n",
        "def windowsMonitor_keyword(x):\n",
        "    textVal = str(x.Text).lower() \n",
        "    #windows monitor\n",
        "    return NON_PRODUCT if \"windows\" in textVal or (\"windows\" in textVal and \"monitor\" in textVal) else PRODUCT\n",
        "\n",
        "@labeling_function()\n",
        "def piecesMonitor_keyword(x):\n",
        "    textVal = str(x.Text).lower() \n",
        "    #pieces monitor\n",
        "    return NON_PRODUCT if \"pieces\" in textVal or (\"pieces\" in textVal and \"monitor\" in textVal) else PRODUCT\n",
        "\n",
        "@labeling_function()\n",
        "def oxygenMonitor_keyword(x):\n",
        "    textVal = str(x.Text).lower() \n",
        "    #oxygen monitor\n",
        "    return NON_PRODUCT if \"oxygen monitor\" in textVal or (\"oxygen\" in textVal and \"monitor\" in textVal) else PRODUCT\n",
        "\n",
        "@labeling_function()\n",
        "def bodyCompositionMonitor_keyword(x):\n",
        "    textVal = str(x.Text).lower() \n",
        "    #body composition monitor\n",
        "    return NON_PRODUCT if \"body composition monitor\" in textVal or (\"body composition\" in textVal and \"monitor\" in textVal) else PRODUCT"
      ],
      "execution_count": 0,
      "outputs": []
    },
    {
      "cell_type": "code",
      "metadata": {
        "id": "mY1YvnuBGvbv",
        "colab_type": "code",
        "outputId": "2731b319-b2c9-430a-a6d2-9f290a186e66",
        "colab": {
          "base_uri": "https://localhost:8080/",
          "height": 151
        }
      },
      "source": [
        "from snorkel.labeling import PandasLFApplier\n",
        "#from snorkel.labeling import DaskLFApplier\n",
        "lfs = [monitor_keyword,modularDesk_keyword,shelves_keyword,screenFilter_keyword,viewer3D_keyword,cctv_keyword,dustCover_keyword,piecesMonitor_keyword,\n",
        "       monitorMounts_keyword,babyMonitor_keyword,randomStringMonitor_keyword,voltmeterMonitor_keyword,desktopPCMonitor_keyword,windowsMonitor_keyword,\n",
        "       oxygenMonitor_keyword,bodyCompositionMonitor_keyword]\n",
        "applier = PandasLFApplier(lfs=lfs)\n",
        "L_train = applier.apply(df=df_new)\n",
        "L_train"
      ],
      "execution_count": 63,
      "outputs": [
        {
          "output_type": "stream",
          "text": [
            "100%|██████████| 1000/1000 [00:00<00:00, 3081.29it/s]\n"
          ],
          "name": "stderr"
        },
        {
          "output_type": "execute_result",
          "data": {
            "text/plain": [
              "array([[ 1,  1,  1, ...,  1,  1,  1],\n",
              "       [ 1,  1,  1, ...,  0,  1,  1],\n",
              "       [ 1,  1,  1, ...,  1,  1,  1],\n",
              "       ...,\n",
              "       [-1,  1,  1, ...,  1,  1,  1],\n",
              "       [ 1,  1,  1, ...,  0,  1,  1],\n",
              "       [ 1,  1,  1, ...,  1,  1,  1]])"
            ]
          },
          "metadata": {
            "tags": []
          },
          "execution_count": 63
        }
      ]
    },
    {
      "cell_type": "code",
      "metadata": {
        "id": "SK--qaq-HG6o",
        "colab_type": "code",
        "outputId": "aa1317a4-67a9-4e57-966d-a5ed86bff56e",
        "colab": {
          "base_uri": "https://localhost:8080/",
          "height": 195
        }
      },
      "source": [
        "coverage_check_out, coverage_check = (L_train != NON_PRODUCT).mean(axis=0)\n",
        "print(f\"check_out coverage: {coverage_check_out * 100:.1f}%\")\n",
        "print(f\"check coverage: {coverage_check * 100:.1f}%\")"
      ],
      "execution_count": 61,
      "outputs": [
        {
          "output_type": "error",
          "ename": "ValueError",
          "evalue": "ignored",
          "traceback": [
            "\u001b[0;31m---------------------------------------------------------------------------\u001b[0m",
            "\u001b[0;31mValueError\u001b[0m                                Traceback (most recent call last)",
            "\u001b[0;32m<ipython-input-61-cb8f83f1bc29>\u001b[0m in \u001b[0;36m<module>\u001b[0;34m()\u001b[0m\n\u001b[0;32m----> 1\u001b[0;31m \u001b[0mcoverage_check_out\u001b[0m\u001b[0;34m,\u001b[0m \u001b[0mcoverage_check\u001b[0m \u001b[0;34m=\u001b[0m \u001b[0;34m(\u001b[0m\u001b[0mL_train\u001b[0m \u001b[0;34m!=\u001b[0m \u001b[0mNON_PRODUCT\u001b[0m\u001b[0;34m)\u001b[0m\u001b[0;34m.\u001b[0m\u001b[0mmean\u001b[0m\u001b[0;34m(\u001b[0m\u001b[0maxis\u001b[0m\u001b[0;34m=\u001b[0m\u001b[0;36m0\u001b[0m\u001b[0;34m)\u001b[0m\u001b[0;34m\u001b[0m\u001b[0;34m\u001b[0m\u001b[0m\n\u001b[0m\u001b[1;32m      2\u001b[0m \u001b[0mprint\u001b[0m\u001b[0;34m(\u001b[0m\u001b[0;34mf\"check_out coverage: {coverage_check_out * 100:.1f}%\"\u001b[0m\u001b[0;34m)\u001b[0m\u001b[0;34m\u001b[0m\u001b[0;34m\u001b[0m\u001b[0m\n\u001b[1;32m      3\u001b[0m \u001b[0mprint\u001b[0m\u001b[0;34m(\u001b[0m\u001b[0;34mf\"check coverage: {coverage_check * 100:.1f}%\"\u001b[0m\u001b[0;34m)\u001b[0m\u001b[0;34m\u001b[0m\u001b[0;34m\u001b[0m\u001b[0m\n",
            "\u001b[0;31mValueError\u001b[0m: too many values to unpack (expected 2)"
          ]
        }
      ]
    },
    {
      "cell_type": "code",
      "metadata": {
        "id": "24KSF-CL2LUt",
        "colab_type": "code",
        "colab": {}
      },
      "source": [
        ""
      ],
      "execution_count": 0,
      "outputs": []
    },
    {
      "cell_type": "markdown",
      "metadata": {
        "id": "n77fghCQzRV9",
        "colab_type": "text"
      },
      "source": [
        "https://scikit-learn.org/stable/modules/generated/sklearn.ensemble.GradientBoostingClassifier.html"
      ]
    },
    {
      "cell_type": "code",
      "metadata": {
        "id": "9F0PJWcLDhsR",
        "colab_type": "code",
        "colab": {}
      },
      "source": [
        ""
      ],
      "execution_count": 0,
      "outputs": []
    }
  ]
}